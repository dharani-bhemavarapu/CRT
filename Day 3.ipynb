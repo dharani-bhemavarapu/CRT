{
 "cells": [
  {
   "cell_type": "code",
   "execution_count": 5,
   "metadata": {},
   "outputs": [
    {
     "name": "stdout",
     "output_type": "stream",
     "text": [
      "5\n"
     ]
    }
   ],
   "source": [
    "li=[1,2,3,4,5]\n",
    "print(li[-1])#negative index"
   ]
  },
  {
   "cell_type": "code",
   "execution_count": 6,
   "metadata": {},
   "outputs": [
    {
     "name": "stdout",
     "output_type": "stream",
     "text": [
      "[1, 3, 5]\n"
     ]
    }
   ],
   "source": [
    "print(li[::2])#skip value"
   ]
  },
  {
   "cell_type": "code",
   "execution_count": 7,
   "metadata": {},
   "outputs": [
    {
     "name": "stdout",
     "output_type": "stream",
     "text": [
      "[1, 5]\n"
     ]
    }
   ],
   "source": [
    "print(li[::4])#skips 4 values"
   ]
  },
  {
   "cell_type": "code",
   "execution_count": 9,
   "metadata": {},
   "outputs": [
    {
     "name": "stdout",
     "output_type": "stream",
     "text": [
      "[1, 3]\n"
     ]
    }
   ],
   "source": [
    "print(li[0:4:2])#start=0 till 4 and skips 2 values"
   ]
  },
  {
   "cell_type": "code",
   "execution_count": 14,
   "metadata": {},
   "outputs": [
    {
     "name": "stdout",
     "output_type": "stream",
     "text": [
      "['python', 3, 6, 'hyd']\n"
     ]
    },
    {
     "data": {
      "text/plain": [
       "['python', 'gitam', 6, 'hyd']"
      ]
     },
     "execution_count": 14,
     "metadata": {},
     "output_type": "execute_result"
    }
   ],
   "source": [
    "list1=[\"python\",3,6,\"hyd\"]\n",
    "print(list1)\n",
    "list1[1]=\"gitam\"#repalce gitam in li[1]\n",
    "list1"
   ]
  },
  {
   "cell_type": "code",
   "execution_count": 19,
   "metadata": {},
   "outputs": [
    {
     "name": "stdout",
     "output_type": "stream",
     "text": [
      "['python']\n"
     ]
    }
   ],
   "source": [
    "#deleting of lists\n",
    "del list1[1]\n",
    "print(list1)#it will delete index 1 every time you crun\n"
   ]
  },
  {
   "cell_type": "code",
   "execution_count": 28,
   "metadata": {},
   "outputs": [
    {
     "name": "stdout",
     "output_type": "stream",
     "text": [
      "True\n",
      "[2, 5, 7, 1, 8, 4]\n",
      "2\n",
      "5\n",
      "7\n",
      "1\n",
      "8\n",
      "4\n"
     ]
    }
   ],
   "source": [
    "#basic list operation\n",
    "l=[2,5,7,1,8,4]\n",
    "len(l)#gives length of the lists\n",
    "#lists repitition\n",
    "l*2\n",
    "#to check certain element is present in the list\n",
    "print(4 in l)\n",
    "#access all items present in the list\n",
    "print(l)\n",
    "for i in l:#i is the variable l is the list\n",
    "    print(i)"
   ]
  },
  {
   "cell_type": "code",
   "execution_count": 33,
   "metadata": {},
   "outputs": [
    {
     "name": "stdout",
     "output_type": "stream",
     "text": [
      "[2, 5, 7, 1, 8, 4]\n",
      "2\n",
      "5\n",
      "7\n",
      "1\n",
      "8\n",
      "4\n"
     ]
    }
   ],
   "source": [
    "print(l)\n",
    "for i in range(len(l)):#prints i in the range of length of l\n",
    "    print(l[i])\n"
   ]
  },
  {
   "cell_type": "code",
   "execution_count": 37,
   "metadata": {},
   "outputs": [
    {
     "name": "stdout",
     "output_type": "stream",
     "text": [
      "[2, 5, 7, 1, 8, 4]\n",
      "8\n",
      "1\n",
      "27\n",
      "4.5\n"
     ]
    }
   ],
   "source": [
    "print(l)\n",
    "print(max(l))#largest element in the list\n",
    "print(min(l))#smallest value in the list\n",
    "print(sum(l))#gives the sum of all the elements in the list\n",
    "print(sum(l)/len(l))#gives avg"
   ]
  },
  {
   "cell_type": "code",
   "execution_count": 42,
   "metadata": {},
   "outputs": [
    {
     "name": "stdout",
     "output_type": "stream",
     "text": [
      "['gitam', 'gitam', 2, 5, 7, 1, 8, 4, 'python', 'python', 'python', 'python']\n"
     ]
    }
   ],
   "source": [
    "print(l)\n",
    "l.append(\"python\")#adds this to the list\n",
    "l.insert(0,\"gitam\")#adds the eleement at a specified index\n",
    "#python adds everytime we run\n"
   ]
  },
  {
   "cell_type": "code",
   "execution_count": 46,
   "metadata": {},
   "outputs": [
    {
     "name": "stdout",
     "output_type": "stream",
     "text": [
      "1\n",
      "3\n",
      "8\n"
     ]
    }
   ],
   "source": [
    "print(l.count(4))#gives count of an element in the list\n",
    "print(l.index(2))\n",
    "print(l.index(4))\n"
   ]
  },
  {
   "cell_type": "code",
   "execution_count": 54,
   "metadata": {},
   "outputs": [
    {
     "data": {
      "text/plain": [
       "[1, 2, 3, 6, 78, 89]"
      ]
     },
     "execution_count": 54,
     "metadata": {},
     "output_type": "execute_result"
    }
   ],
   "source": [
    "\n",
    "list1=[6,89,3,2,1,78]\n",
    "list1.sort()\n",
    "list1"
   ]
  },
  {
   "cell_type": "code",
   "execution_count": 56,
   "metadata": {},
   "outputs": [
    {
     "data": {
      "text/plain": [
       "2"
      ]
     },
     "execution_count": 56,
     "metadata": {},
     "output_type": "execute_result"
    }
   ],
   "source": [
    "list1.pop()\n",
    "list1.pop(1)"
   ]
  },
  {
   "cell_type": "code",
   "execution_count": 58,
   "metadata": {},
   "outputs": [
    {
     "name": "stdout",
     "output_type": "stream",
     "text": [
      "[1, 3, 78]\n"
     ]
    },
    {
     "data": {
      "text/plain": [
       "78"
      ]
     },
     "execution_count": 58,
     "metadata": {},
     "output_type": "execute_result"
    }
   ],
   "source": [
    "print(list1)\n",
    "list1.pop(2)#it pops index 2"
   ]
  },
  {
   "cell_type": "code",
   "execution_count": 63,
   "metadata": {},
   "outputs": [
    {
     "name": "stdout",
     "output_type": "stream",
     "text": [
      "[1, 3, 1, 2, 3, 1, 2, 3]\n"
     ]
    },
    {
     "data": {
      "text/plain": [
       "[1, 3, 1, 2, 3, 1, 2, 3, 1, 2, 3]"
      ]
     },
     "execution_count": 63,
     "metadata": {},
     "output_type": "execute_result"
    }
   ],
   "source": [
    "li1=[1,2,3]\n",
    "print(list1)\n",
    "list1.extend(li1)#extends list1 with li1\n",
    "list1"
   ]
  },
  {
   "cell_type": "code",
   "execution_count": 64,
   "metadata": {},
   "outputs": [
    {
     "data": {
      "text/plain": [
       "[1, 3, 1, 2, 3, 1, 2, 3, 1, 2, 3]"
      ]
     },
     "execution_count": 64,
     "metadata": {},
     "output_type": "execute_result"
    }
   ],
   "source": [
    "list1"
   ]
  },
  {
   "cell_type": "code",
   "execution_count": 65,
   "metadata": {},
   "outputs": [
    {
     "data": {
      "text/plain": [
       "[3, 2, 1, 3, 2, 1, 3, 2, 1, 3, 1]"
      ]
     },
     "execution_count": 65,
     "metadata": {},
     "output_type": "execute_result"
    }
   ],
   "source": [
    "list1.reverse()#prints lists in reverse order\n",
    "list1"
   ]
  },
  {
   "cell_type": "code",
   "execution_count": 66,
   "metadata": {},
   "outputs": [
    {
     "data": {
      "text/plain": [
       "890"
      ]
     },
     "execution_count": 66,
     "metadata": {},
     "output_type": "execute_result"
    }
   ],
   "source": [
    "#function to return largest element of the list\n",
    "def largest(li):\n",
    "    li.sort()\n",
    "    return li[-1]\n",
    "li=[3,45,32,67,890,12]\n",
    "largest(li)"
   ]
  },
  {
   "cell_type": "code",
   "execution_count": null,
   "metadata": {},
   "outputs": [],
   "source": []
  }
 ],
 "metadata": {
  "kernelspec": {
   "display_name": "Python 3",
   "language": "python",
   "name": "python3"
  },
  "language_info": {
   "codemirror_mode": {
    "name": "ipython",
    "version": 3
   },
   "file_extension": ".py",
   "mimetype": "text/x-python",
   "name": "python",
   "nbconvert_exporter": "python",
   "pygments_lexer": "ipython3",
   "version": "3.7.4"
  }
 },
 "nbformat": 4,
 "nbformat_minor": 2
}
